{
 "cells": [
  {
   "cell_type": "code",
   "execution_count": 1,
   "metadata": {},
   "outputs": [],
   "source": [
    "import datetime\n",
    "import os\n",
    "\n",
    "import pandas as pd\n",
    "import seaborn as sns\n"
   ]
  },
  {
   "cell_type": "markdown",
   "metadata": {},
   "source": [
    "**Run the cells below to download the collisions data**"
   ]
  },
  {
   "cell_type": "code",
   "execution_count": 2,
   "metadata": {},
   "outputs": [],
   "source": [
    "if not os.path.exists('data'):\n",
    "    os.makedirs('data')"
   ]
  },
  {
   "cell_type": "code",
   "execution_count": null,
   "metadata": {},
   "outputs": [
    {
     "name": "stdout",
     "output_type": "stream",
     "text": [
      "--2020-06-22 19:47:37--  https://data.cityofnewyork.us/api/views/h9gi-nx95/rows.csv?accessType=DOWNLOAD\n",
      "Resolving data.cityofnewyork.us (data.cityofnewyork.us)... 52.206.140.205, 52.206.140.199, 52.206.68.26\n",
      "Connecting to data.cityofnewyork.us (data.cityofnewyork.us)|52.206.140.205|:443... connected.\n",
      "HTTP request sent, awaiting response... 200 OK\n",
      "Length: unspecified [text/csv]\n",
      "Saving to: ‘data/collisions.csv’\n",
      "\n",
      "data/collisions.csv     [     <=>            ]  96.53M  1.83MB/s               "
     ]
    }
   ],
   "source": [
    "!wget -nc -O data/collisions.csv https://data.cityofnewyork.us/api/views/h9gi-nx95/rows.csv?accessType=DOWNLOAD"
   ]
  },
  {
   "cell_type": "markdown",
   "metadata": {},
   "source": [
    "# Data Science: First Steps"
   ]
  },
  {
   "cell_type": "markdown",
   "metadata": {},
   "source": [
    "## The problem: planning deliveries in NYC\n",
    "\n",
    "For our example data science problem, let's imagine we've been hired by a new courier service operating in the New York City area. The company needs to make deliveries efficiently, so the data science team is tasked with building data-driven tools to assist with operations.\n",
    "\n",
    "For all intents and purposes, let's say we've simply been asked the following question: \"How can we better plan deliveries?\"\n",
    "\n",
    "If this seems vague, that's the idea! Data scientists often need to turn general problems into more specific subproblems and then look for opportunities for quantitative insights within those subproblems."
   ]
  },
  {
   "cell_type": "markdown",
   "metadata": {},
   "source": [
    "### How does this differ from a typical directions application?\n",
    "* Plan many deliveries at once\n",
    "* Fixed number of packages to deliver in one day"
   ]
  },
  {
   "cell_type": "markdown",
   "metadata": {},
   "source": [
    "### What makes a good route?\n",
    "* Closely packed deliveries\n",
    "* Fast\n",
    "* Reliable"
   ]
  },
  {
   "cell_type": "markdown",
   "metadata": {},
   "source": [
    "### Goal: towards proof-of-concept\n",
    "Obviously, we can't jump right into building machine learning models and sophisticated route-planning software. In this notebook, we'll get the process started with some basic data exploration and descriptive analysis. We simply want to start getting familiar with the available data, discover some meaningful questions that the data can help us solve, and find some usable signal that we can apply towards modeling later on. "
   ]
  },
  {
   "cell_type": "markdown",
   "metadata": {},
   "source": [
    "## Acquiring data\n",
    "\n"
   ]
  },
  {
   "cell_type": "markdown",
   "metadata": {},
   "source": [
    "### Road map\n",
    "https://data.cityofnewyork.us/City-Government/road/svwp-sbcd"
   ]
  },
  {
   "cell_type": "markdown",
   "metadata": {},
   "source": [
    "### Traffic\n",
    "**Historical Data (2014-2018)**: https://data.cityofnewyork.us/Transportation/Traffic-Volume-Counts-2014-2018-/ertz-hr4r\n",
    "\n",
    "**Real-time API**: https://data.cityofnewyork.us/Transportation/Real-Time-Traffic-Speed-Data/qkm5-nuaq"
   ]
  },
  {
   "cell_type": "markdown",
   "metadata": {},
   "source": [
    "### Collisions\n",
    "https://data.cityofnewyork.us/Public-Safety/Motor-Vehicle-Collisions-Crashes/h9gi-nx95\n",
    "\n"
   ]
  },
  {
   "cell_type": "markdown",
   "metadata": {},
   "source": [
    "## Explore Collisions Data\n",
    "There is plenty of data to dive into, as we see above, but we'll stick with the collisions data for now."
   ]
  },
  {
   "cell_type": "code",
   "execution_count": null,
   "metadata": {
    "scrolled": true
   },
   "outputs": [],
   "source": [
    "df_all = pd.read_csv('data/collisions.csv',\n",
    "                    low_memory=False)"
   ]
  },
  {
   "cell_type": "code",
   "execution_count": null,
   "metadata": {},
   "outputs": [],
   "source": [
    "df = df_all[df_all['BOROUGH'] == 'MANHATTAN'].copy()\n",
    "del df_all\n",
    "df.head(1)"
   ]
  },
  {
   "cell_type": "markdown",
   "metadata": {},
   "source": [
    "### New column: Timestamp\n",
    "The dataset gives us a `CRASH DATE` AND A `CRASH TIME` column, but to make the most of Pandas' datetime functionality, we will combine these into a new column and convert it to datetime type."
   ]
  },
  {
   "cell_type": "code",
   "execution_count": null,
   "metadata": {},
   "outputs": [],
   "source": [
    "df['TIMESTAMP'] = df['CRASH DATE'] + ' ' + df['CRASH TIME']"
   ]
  },
  {
   "cell_type": "code",
   "execution_count": null,
   "metadata": {},
   "outputs": [],
   "source": [
    "df['TIMESTAMP'] = pd.to_datetime(df['TIMESTAMP'])\n",
    "\n",
    "df.head(2)"
   ]
  },
  {
   "cell_type": "code",
   "execution_count": null,
   "metadata": {},
   "outputs": [],
   "source": [
    "def make_timestamp_column(df):\n",
    "    \n",
    "    timestamp = df['CRASH DATE'] + ' ' + df['CRASH TIME']\n",
    "    return pd.to_datetime(df['TIMESTAMP'])"
   ]
  },
  {
   "cell_type": "code",
   "execution_count": null,
   "metadata": {},
   "outputs": [],
   "source": [
    "df['TIMESTAMP'] = make_timestamp_column(df)"
   ]
  },
  {
   "cell_type": "markdown",
   "metadata": {},
   "source": [
    "### Check for missing values"
   ]
  },
  {
   "cell_type": "code",
   "execution_count": null,
   "metadata": {},
   "outputs": [],
   "source": [
    "df.isna().head()"
   ]
  },
  {
   "cell_type": "markdown",
   "metadata": {},
   "source": [
    "**Get the proportion of missing values per column**"
   ]
  },
  {
   "cell_type": "code",
   "execution_count": null,
   "metadata": {},
   "outputs": [],
   "source": [
    "df.isna().mean().head()"
   ]
  },
  {
   "cell_type": "code",
   "execution_count": null,
   "metadata": {},
   "outputs": [],
   "source": [
    "df.isna().mean().sort_values(ascending=False)"
   ]
  },
  {
   "cell_type": "markdown",
   "metadata": {},
   "source": [
    "### Filtering:  collisions during delivery hours\n",
    "Since we're conducting analysis for a courier company, we don't need to analyze data for collisions happening at all hours of the day. Let's make a reasonable assumption: deliveries will be made between 8 AM and 8 PM, so we'll restrict our analysis to that time period."
   ]
  },
  {
   "cell_type": "code",
   "execution_count": null,
   "metadata": {},
   "outputs": [],
   "source": [
    "def filter_delivery_hours(df, start=8, stop=20):\n",
    "    df['HOUR'] = df['TIMESTAMP'].dt.hour\n",
    "    df = df[(df['HOUR'] >= 8) & (df['HOUR'] <= 20)]\n",
    "    return df"
   ]
  },
  {
   "cell_type": "code",
   "execution_count": null,
   "metadata": {},
   "outputs": [],
   "source": [
    "df = filter_delivery_hours(df)\n",
    "df[['HOUR']].plot.hist()"
   ]
  },
  {
   "cell_type": "markdown",
   "metadata": {},
   "source": [
    "### Intersections:  `ON STREET` and `CROSS STREET`"
   ]
  },
  {
   "cell_type": "code",
   "execution_count": null,
   "metadata": {},
   "outputs": [],
   "source": []
  },
  {
   "cell_type": "markdown",
   "metadata": {},
   "source": [
    "We could make use of the `LOCATION` column to place collisions on a map, but the data gives us relevant information regarding streets and intersections as well. This is meaningful to us because we have to make street-level decisions in planning routes.\n",
    "\n",
    "For instance, are there certain stretches of street we should avoid? We can start to address this question by creating a new column for `INTERSECTION`. "
   ]
  },
  {
   "cell_type": "markdown",
   "metadata": {},
   "source": [
    "**Missing values in at least one column**"
   ]
  },
  {
   "cell_type": "code",
   "execution_count": null,
   "metadata": {},
   "outputs": [],
   "source": [
    "def make_intersections(df):\n",
    "    intersections = (df['ON STREET NAME'].str.strip() \n",
    "                      + ' / '\n",
    "                      + df['CROSS STREET NAME'].str.strip())\n",
    "        \n",
    "    return intersections"
   ]
  },
  {
   "cell_type": "code",
   "execution_count": null,
   "metadata": {},
   "outputs": [],
   "source": [
    "df['INTERSECTION'] = make_intersections(df)\n",
    "df_intersection = df.dropna(subset=['INTERSECTION'])"
   ]
  },
  {
   "cell_type": "code",
   "execution_count": null,
   "metadata": {},
   "outputs": [],
   "source": [
    "def top_20_intersections(df):\n",
    "    return df['INTERSECTION'].value_counts()[:20]\n",
    "\n",
    "top_20_intersections(df)"
   ]
  },
  {
   "cell_type": "markdown",
   "metadata": {},
   "source": [
    "## Feature Extraction: Street Numbers"
   ]
  },
  {
   "cell_type": "code",
   "execution_count": null,
   "metadata": {},
   "outputs": [],
   "source": [
    "intersection = df_intersection['INTERSECTION']"
   ]
  },
  {
   "cell_type": "code",
   "execution_count": null,
   "metadata": {},
   "outputs": [],
   "source": [
    "def get_street_numbers(df):\n",
    "    street_numbers = intersection.str.extract(r'\\W(\\d+) ST', expand=False).astype(float)\n",
    "    \n",
    "    return street_numbers"
   ]
  },
  {
   "cell_type": "code",
   "execution_count": null,
   "metadata": {},
   "outputs": [],
   "source": [
    "df_intersection.loc[:,'STREET NUMBER'] = get_street_numbers(df)"
   ]
  },
  {
   "cell_type": "code",
   "execution_count": null,
   "metadata": {},
   "outputs": [],
   "source": [
    "between_1_14 = (df_intersection['STREET NUMBER']\n",
    "                .between(1, 14, inclusive=True))"
   ]
  },
  {
   "cell_type": "code",
   "execution_count": null,
   "metadata": {},
   "outputs": [],
   "source": [
    "df_intersection[between_1_14]['INTERSECTION'].value_counts()[:10]"
   ]
  },
  {
   "cell_type": "code",
   "execution_count": null,
   "metadata": {},
   "outputs": [],
   "source": [
    "between_1_13 = df_intersection['STREET NUMBER'].between(1, 13, inclusive=True)\n",
    "df_intersection[between_1_13]['INTERSECTION'].value_counts()[:10]"
   ]
  },
  {
   "cell_type": "markdown",
   "metadata": {},
   "source": [
    "### Feature Engineering: Alphabet City"
   ]
  },
  {
   "cell_type": "code",
   "execution_count": null,
   "metadata": {},
   "outputs": [],
   "source": [
    "def get_avenue_letters(df):\n",
    "    avenue_letters = (df['INTERSECTION']\n",
    "                      .str.extract(r'(AVENUE [A-D])(?:$|\\s)', expand=False))\n",
    "    \n",
    "    return avenue_letters"
   ]
  },
  {
   "cell_type": "code",
   "execution_count": null,
   "metadata": {},
   "outputs": [],
   "source": [
    "avenue_letters = intersection.str.extract(r'(AVENUE [A-D])(?:$|\\s)', expand=False)"
   ]
  },
  {
   "cell_type": "code",
   "execution_count": null,
   "metadata": {},
   "outputs": [],
   "source": [
    "avenue_letters.dropna()"
   ]
  },
  {
   "cell_type": "code",
   "execution_count": null,
   "metadata": {},
   "outputs": [],
   "source": [
    "df_alphabet = df_intersection.loc[avenue_letters.notna(),:]\n",
    "df_alphabet"
   ]
  },
  {
   "cell_type": "code",
   "execution_count": null,
   "metadata": {},
   "outputs": [],
   "source": [
    "df_alphabet[df_alphabet['STREET NUMBER'].isna()]['INTERSECTION'].value_counts()"
   ]
  },
  {
   "cell_type": "markdown",
   "metadata": {},
   "source": [
    "### Feature engineering: number of vehicles"
   ]
  },
  {
   "cell_type": "code",
   "execution_count": null,
   "metadata": {},
   "outputs": [],
   "source": [
    "vehicle_type_codes = df[[\n",
    "    'VEHICLE TYPE CODE 1',\n",
    "    'VEHICLE TYPE CODE 2',\n",
    "    'VEHICLE TYPE CODE 3',\n",
    "    'VEHICLE TYPE CODE 4',\n",
    "    'VEHICLE TYPE CODE 5'\n",
    "]]\n",
    "\n",
    "vehicle_type_codes.head()"
   ]
  },
  {
   "cell_type": "code",
   "execution_count": null,
   "metadata": {},
   "outputs": [],
   "source": [
    "vehicle_type_codes.notna().head()"
   ]
  },
  {
   "cell_type": "code",
   "execution_count": null,
   "metadata": {},
   "outputs": [],
   "source": [
    "def get_num_vehicles(df):\n",
    "    vehicle_type_codes = df[[\n",
    "    'VEHICLE TYPE CODE 1',\n",
    "    'VEHICLE TYPE CODE 2',\n",
    "    'VEHICLE TYPE CODE 3',\n",
    "    'VEHICLE TYPE CODE 4',\n",
    "    'VEHICLE TYPE CODE 5'\n",
    "    ]]\n",
    "\n",
    "    num_vehicles = vehicle_type_codes.notna().sum(axis=1)\n",
    "    num_vehicles = num_vehicles.to_frame()\n",
    "    num_vehicles.columns=['NUM VEHICLES']\n",
    "    \n",
    "    return num_vehicles"
   ]
  },
  {
   "cell_type": "code",
   "execution_count": null,
   "metadata": {},
   "outputs": [],
   "source": [
    "num_vehicles = get_num_vehicles(df)"
   ]
  },
  {
   "cell_type": "code",
   "execution_count": null,
   "metadata": {},
   "outputs": [],
   "source": [
    "num_vehicles.plot.hist()"
   ]
  },
  {
   "cell_type": "markdown",
   "metadata": {},
   "source": [
    "### Join to original data frame "
   ]
  },
  {
   "cell_type": "code",
   "execution_count": null,
   "metadata": {},
   "outputs": [],
   "source": [
    "df = df.join(num_vehicles)\n",
    "df.head()"
   ]
  },
  {
   "cell_type": "code",
   "execution_count": null,
   "metadata": {},
   "outputs": [],
   "source": [
    "(df.groupby('INTERSECTION')['NUM VEHICLES']\n",
    "   .agg(['count', 'mean'])\n",
    "   .sort_values(by='count', ascending=False))[:20]"
   ]
  },
  {
   "cell_type": "markdown",
   "metadata": {},
   "source": [
    "## What's next?"
   ]
  },
  {
   "cell_type": "markdown",
   "metadata": {},
   "source": [
    "### Reproducible results"
   ]
  },
  {
   "cell_type": "markdown",
   "metadata": {},
   "source": [
    "**Virtual environments**: \n",
    "- pip\n",
    "- conda\n",
    "\n",
    "\n",
    "**Hosting notebooks online**\n",
    "* Jupyter notebooks on github\n",
    "* Juptyer notebooks with Binder\n",
    "    * Considerations for downloading data"
   ]
  },
  {
   "cell_type": "markdown",
   "metadata": {},
   "source": [
    "### Back to the original problem"
   ]
  },
  {
   "cell_type": "markdown",
   "metadata": {},
   "source": [
    "* Grouping deliveries by location\n",
    "    * Heuristic rules\n",
    "    * Clustering\n",
    "* Towards a predictive model\n",
    "    * Predicting best routes: again, what does \"best\" mean here?\n",
    "    * What other data could we use?"
   ]
  }
 ],
 "metadata": {
  "kernelspec": {
   "display_name": "Python 3",
   "language": "python",
   "name": "python3"
  },
  "language_info": {
   "codemirror_mode": {
    "name": "ipython",
    "version": 3
   },
   "file_extension": ".py",
   "mimetype": "text/x-python",
   "name": "python",
   "nbconvert_exporter": "python",
   "pygments_lexer": "ipython3",
   "version": "3.7.3"
  }
 },
 "nbformat": 4,
 "nbformat_minor": 4
}
